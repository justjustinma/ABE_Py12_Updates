{
 "cells": [
  {
   "cell_type": "markdown",
   "metadata": {},
   "source": [
    "# ABE Tutorial 1.1\n",
    "## Building a custom environment\n",
    "\n",
    "In this tutorial let's now learn about how training environments are built. To do so we'll build our own, and in the process learn about action spaces, observations, rewards.\n",
    "\n",
    "Steps:\n",
    "* Build a simple grid environment\n",
    "* Register it as a gym environment \n",
    "* Check that it works\n"
   ]
  },
  {
   "cell_type": "markdown",
   "metadata": {},
   "source": []
  }
 ],
 "metadata": {
  "language_info": {
   "name": "python"
  }
 },
 "nbformat": 4,
 "nbformat_minor": 2
}
