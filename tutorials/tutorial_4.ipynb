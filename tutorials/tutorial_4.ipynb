{
 "cells": [
  {
   "cell_type": "markdown",
   "metadata": {},
   "source": [
    "# ABE tutorial 4\n",
    "## Using functional approximation\n",
    "\n",
    "In this fourth tutorial let's dive deeper into how we use neural network models with RL. Now that we understand the concept of functional approximation, we can see how these neural network models are operating. We'll spend some time on some of the options when it comes to building neural networks for functional approximation, and go over some computational hurdles. \n",
    "\n",
    "Steps:\n",
    "* Go over the building of a neural network\n",
    "* Normalization\n",
    "* Converting A2C to continous action spaces\n",
    "* Test out the continuous A2C algorithm in new environments\n"
   ]
  }
 ],
 "metadata": {
  "language_info": {
   "name": "python"
  }
 },
 "nbformat": 4,
 "nbformat_minor": 2
}
