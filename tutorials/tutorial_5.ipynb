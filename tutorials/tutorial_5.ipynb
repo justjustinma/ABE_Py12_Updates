{
 "cells": [
  {
   "cell_type": "markdown",
   "metadata": {},
   "source": [
    "# ABE tutorial 5\n",
    "## Adapting our agent for continuous learning in dynamic environments\n",
    "\n",
    "In this fifth tutorial let's prepaire our agent to learn continuously in dynamic environments where the sequence of events is important. We'll learn how to facilitate learning through the use of short term memory (eligibility traces), and how to observer the environment in a way that keeps the sequence of observations.   \n",
    "\n",
    "Steps:\n",
    "* Add in eligibility traces\n",
    "* Add in recurrent network structures\n",
    "* Try altering the hyper-parameters\n",
    "* Try the algorithm in different environments\n"
   ]
  }
 ],
 "metadata": {
  "language_info": {
   "name": "python"
  }
 },
 "nbformat": 4,
 "nbformat_minor": 2
}
